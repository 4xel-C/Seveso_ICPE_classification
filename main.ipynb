{
 "cells": [
  {
   "cell_type": "code",
   "execution_count": 1,
   "metadata": {},
   "outputs": [],
   "source": [
    "#This script help the redaction of the Seveso / ICPE report for all products in stock + laboratories in lyon.\n",
    "#It works by processing 3 excel sheets\n",
    "#   -VC+ extraction: column used : [\"PRODUCT_NAME\", \"STR_ID\", \"STOCK_AMOUNT\",\"STOCK_AMOUNT_UNIT\", \"CAS_NO\", \"STORAGE_CLASS\", \"SAFETY_PHRASES\", \"PHYSICAL_STATE\"\n",
    "#   -A table containing all named_substances, their classification (a, b, c), and all cas numbers\n",
    "#   -A table containing all thresholds (seveso and ICPE) detected in the VC+ extraction, and on wich classification they apply"
   ]
  },
  {
   "cell_type": "code",
   "execution_count": 2,
   "metadata": {},
   "outputs": [],
   "source": [
    "# Import all packages \n",
    "import numpy as np\n",
    "import pandas as pd\n",
    "import re"
   ]
  },
  {
   "cell_type": "code",
   "execution_count": 3,
   "metadata": {},
   "outputs": [],
   "source": [
    "#Charger les datas STOCK + Laboratoire Lyon et changer les NaN par \"\"\n",
    "df = pd.read_excel(\"Data/Axel LYO Vials.xlsx\", dtype={'STR_ID' : str,\n",
    "                                                      'VIAL_BARCODE' : str,\n",
    "                                                      'LAB_ID': str,\n",
    "                                                      'LOCATION_ID': str})\n",
    "df = df.fillna(\"\")"
   ]
  },
  {
   "cell_type": "code",
   "execution_count": 4,
   "metadata": {},
   "outputs": [],
   "source": [
    "pd.set_option('display.max_columns', None)"
   ]
  },
  {
   "cell_type": "code",
   "execution_count": 5,
   "metadata": {},
   "outputs": [],
   "source": [
    "# Conversion des quantités en Tonne (pour les liquides, une densité de 1 est appliquée\n",
    "\n",
    "\n",
    "#Renommer les colonnes contenant les masses originales pour les conserve (verification) et envoyer la transformation de la convertion en tonnes en fin de dataframe\n",
    "df.rename(columns = {\"STOCK_AMOUNT\" : \"STOCK_AMOUNT_vc\",\n",
    "                     \"STOCK_AMOUNT_UNIT\" : \"STOCK_AMOUNT_UNIT_vc\"}, inplace=True)\n",
    "\n",
    "\n",
    "    #PCE pour correspondre à l'unité et à la capacité du vial\n",
    "df.loc[(df['STOCK_AMOUNT_UNIT_vc'] == \"PCE\"), [\"STOCK_AMOUNT_vc\"]] = df['VIAL_CAPACITY']\n",
    "df.loc[(df['STOCK_AMOUNT_UNIT_vc'] == \"PCE\"), [\"STOCK_AMOUNT_UNIT_vc\"]] = df['VIAL_CAPACITY_UNIT']\n",
    "    #g and ml in tonne\n",
    "df.loc[(df['STOCK_AMOUNT_UNIT_vc'] == 'g') | (df['STOCK_AMOUNT_UNIT_vc'] == 'ml'), ['STOCK_AMOUNT']] = df['STOCK_AMOUNT_vc'] / 1000000\n",
    "df.loc[(df['STOCK_AMOUNT_UNIT_vc'] == 'g') | (df['STOCK_AMOUNT_UNIT_vc'] == 'ml'), ['STOCK_AMOUNT_UNIT']] = 'ton'\n",
    "    #kg and l in tonne\n",
    "df.loc[(df['STOCK_AMOUNT_UNIT_vc'] == 'kg') | (df['STOCK_AMOUNT_UNIT_vc'] == 'l'), ['STOCK_AMOUNT']] = df['STOCK_AMOUNT_vc']/1000\n",
    "df.loc[(df['STOCK_AMOUNT_UNIT_vc'] == 'kg') | (df['STOCK_AMOUNT_UNIT_vc'] == 'l'), ['STOCK_AMOUNT_UNIT']] = 'ton'\n",
    "    #mg in tonne\n",
    "df.loc[(df['STOCK_AMOUNT_UNIT_vc'] == 'mg'), ['STOCK_AMOUNT']] = df['STOCK_AMOUNT_vc']/1000000000\n",
    "df.loc[(df['STOCK_AMOUNT_UNIT_vc'] == 'mg'), ['STOCK_AMOUNT_UNIT']] = 'ton'\n",
    "    #stone en tonne (!!!!!!!!!!!!!!! St May also mean \"stück\" == piece and hsould be taken into consideration to calculate the correct mass (take the flask volumne as maximum qty?) )\n",
    "df.loc[(df['STOCK_AMOUNT_UNIT_vc'] == 'st'), ['STOCK_AMOUNT']] = df['STOCK_AMOUNT_vc']/157.5\n",
    "df.loc[(df['STOCK_AMOUNT_UNIT_vc'] == 'st'), ['STOCK_AMOUNT_UNIT']] = 'ton'\n",
    "\n"
   ]
  },
  {
   "cell_type": "code",
   "execution_count": 6,
   "metadata": {},
   "outputs": [],
   "source": [
    "#Charger le tableau des références des substances nommément désignées et nettoyage des données\n",
    "df_ref_name = pd.read_excel(\"Data/named_substances.xlsx\")\n",
    "df_ref_name = df_ref_name.fillna('0')  \n",
    "\n",
    "df_ref_name['phrase_H'] = df_ref_name['phrase_H'].str.split(r\"\\n\") \n",
    "df_ref_name['CAS'] = df_ref_name['CAS'].str.split(', ')\n",
    "df_ref_name = df_ref_name.explode('CAS')\n",
    "\n",
    "#Création d'une colonne \"regle cumul\"\n",
    "df_ref_name['regle cumul'] = \"\"\n",
    "df_ref_name.loc[df_ref_name['a'] == \"x\", ['regle cumul']] += 'a, '\n",
    "df_ref_name.loc[df_ref_name['b'] == \"x\", ['regle cumul']] += 'b, '\n",
    "df_ref_name.loc[df_ref_name['c'] == \"x\", ['regle cumul']] += 'c, '\n",
    "\n",
    "\n",
    "df_ref_name = df_ref_name.rename(columns={\"CAS\" : \"CAS_NO\"}) #Renaming CAS column so it matches the database\n"
   ]
  },
  {
   "cell_type": "code",
   "execution_count": 7,
   "metadata": {},
   "outputs": [],
   "source": [
    "#////////////////////////////////////////////////////////////////////////////////////// Classification des produits Nommément désignés avec le df_name_ref\n",
    "\n",
    "# Rajout de la colonne 'Nommement designee\" et attribution des valeurs \"Oui\" ou \"Non\"\n",
    "df.loc[df['CAS_NO'].isin(df_ref_name['CAS_NO']), ['Nommement designee ?']] = 'Oui'\n",
    "df.loc[~(df['Nommement designee ?'] == 'Oui'), ['Nommement designee ?']] = 'Non'\n",
    "\n",
    "#Rajout de la colonne \"regle cumul\" et remplissage pour produits nommément designés avec rubrique\n",
    "cumul = df_ref_name.loc[:, [\"CAS_NO\", \"regle cumul\", \"rubrique\"]]\n",
    "df = df.merge(cumul, how=\"left\", on=\"CAS_NO\")\n",
    "\n",
    "#Nettoyage des colonnes \"regle cumul\" et \"rubrique\"\n",
    "df[[\"regle cumul\", \"rubrique\"]] = df[[\"regle cumul\", \"rubrique\"]].fillna(\"\")\n"
   ]
  },
  {
   "cell_type": "code",
   "execution_count": 8,
   "metadata": {},
   "outputs": [],
   "source": [
    "#////////////////////////////////////////////////////////////////////////////////////// Classification des produits NON nomméments désignés\n",
    "#Catégorie phrases H pour l'attribution de la règle de cumul à la liste de produits\n",
    "H_toxiques = ['H300', 'H310', 'H330', 'H331', 'H301', 'H370']\n",
    "H_physiques = ['H200', 'H201','H202','H203','H204','H205', 'H220', 'H221', 'H222', 'H223', 'H224', 'H225', 'H226', 'H240', 'H241', 'H242', 'H250', 'H270', 'H271', 'H272', 'H270']\n",
    "H_environnements = ['H400', 'H410', 'H411'] "
   ]
  },
  {
   "cell_type": "code",
   "execution_count": 9,
   "metadata": {},
   "outputs": [],
   "source": [
    "#Completion de la colonne \"rubrique\" et \"regle cumul\" pour tous les autres composés\n",
    "#Pas de differenciation solide / liquide / gas, la catégorie contenant le seuil le plus bas est systématiquement appliquée pour les calculs\n",
    "\n",
    "\n",
    "    #Classification Toxique\n",
    "    \n",
    "#Toxicite aigu cat 1\n",
    "df.loc[(df['Nommement designee ?'] == \"Non\") \n",
    "       &((df['STORAGE_CLASS'] == \"6.1A\")\n",
    "         |(df['STORAGE_CLASS'] == \"6.1B\"))\n",
    "       &((df['SAFETY_PHRASES'].str.contains(\"H300\")) \n",
    "        |(df['SAFETY_PHRASES'].str.contains(\"H310\")) \n",
    "        |(df['SAFETY_PHRASES'].str.contains(\"H330\"))), ['rubrique']] += \"4110, \"\n",
    "\n",
    "#Si \"storage class\" n'est pas détaillé => ajout en 4110\n",
    "df.loc[(df['Nommement designee ?'] == \"Non\") \n",
    "       &((df['STORAGE_CLASS'] != \"6.1A\")\n",
    "         &(df['STORAGE_CLASS'] != \"6.1B\")\n",
    "         &(df['STORAGE_CLASS'] != \"6.1C\")\n",
    "         &(df['STORAGE_CLASS'] != \"6.1D\"))\n",
    "       &((df['SAFETY_PHRASES'].str.contains(\"H300\")) \n",
    "        |(df['SAFETY_PHRASES'].str.contains(\"H310\")) \n",
    "        |(df['SAFETY_PHRASES'].str.contains(\"H330\"))), ['rubrique']] += \"4110, \"\n",
    "\n",
    "#Toxicite aigu cat 2\n",
    "df.loc[(df['Nommement designee ?'] == \"Non\") \n",
    "       &((df['STORAGE_CLASS'] == \"6.1C\")\n",
    "         |(df['STORAGE_CLASS'] == \"6.1D\"))\n",
    "       &((df['SAFETY_PHRASES'].str.contains(\"H300\")) \n",
    "        |(df['SAFETY_PHRASES'].str.contains(\"H310\")) \n",
    "        |(df['SAFETY_PHRASES'].str.contains(\"H330\"))), ['rubrique']] += \"4120, \"\n",
    "\n",
    "\n",
    "#Toxicite aigu cat 3 par inhalation\n",
    "df.loc[(df['Nommement designee ?'] == \"Non\") \n",
    "       &(df['SAFETY_PHRASES'].str.contains(\"H331\")), ['rubrique']] += \"4130, \"\n",
    "\n",
    "\n",
    "#Toxicite aigu cat 3 voie d'exposition orale\n",
    "df.loc[(df['Nommement designee ?'] == \"Non\") \n",
    "       &(df['SAFETY_PHRASES'].str.contains(\"H301\")), ['rubrique']] += \"4140, \"\n",
    "\n",
    "#Toxicite specifique\n",
    "df.loc[(df['Nommement designee ?'] == \"Non\") \n",
    "       &(df['SAFETY_PHRASES'].str.contains(\"H370\")), ['rubrique']] += \"4150, \"\n",
    "\n",
    "#Attribution de la règle de cumul a\n",
    "df.loc[(df['Nommement designee ?'] == \"Non\") \n",
    "       &(df['SAFETY_PHRASES'].str.contains(\"|\".join(H_toxiques))), ['regle cumul']] += \"a, \"\n"
   ]
  },
  {
   "cell_type": "code",
   "execution_count": 10,
   "metadata": {},
   "outputs": [],
   "source": [
    "#Classification dangers physiques\n",
    "    \n",
    "#Gaz inflammables et extrêmement inflammables\n",
    "df.loc[(df['Nommement designee ?'] == \"Non\") \n",
    "       &((df['SAFETY_PHRASES'].str.contains(\"H220\")) \n",
    "        |(df['SAFETY_PHRASES'].str.contains(\"H221\"))) , ['rubrique']] += \"4310, \"\n",
    "\n",
    "#Aerosols inflammables / Categorie 4320 à différencier manuellement de 4321 si dépassement du seuil\n",
    "df.loc[(df['Nommement designee ?'] == \"Non\") \n",
    "       &((df['SAFETY_PHRASES'].str.contains(\"H222\")) \n",
    "        |(df['SAFETY_PHRASES'].str.contains(\"H223\"))) , ['rubrique']] += \"4320, \"\n",
    "\n",
    "#Liquides et vapeurs inflammables cat 1\n",
    "df.loc[(df['Nommement designee ?'] == \"Non\") \n",
    "       & (df['SAFETY_PHRASES'].str.contains(\"H224\")), ['rubrique']] += \"4330, \"\n",
    "\n",
    "#Liquides inflammables cat 2 & 3\n",
    "df.loc[(df['Nommement designee ?'] == \"Non\") \n",
    "       &((df['SAFETY_PHRASES'].str.contains(\"H225\")) \n",
    "        |(df['SAFETY_PHRASES'].str.contains(\"H226\"))), ['rubrique']] += \"4331, \"\n",
    "\n",
    "#Substances et mélanges auto-reactifs type A & B, hors peroxydes                           \n",
    "df.loc[(df['Nommement designee ?'] == \"Non\") \n",
    "       &(~df['PRODUCT_NAME'].str.contains(\"perox\", case=False, na=False))\n",
    "       &((df['SAFETY_PHRASES'].str.contains(\"H240\")) \n",
    "        |(df['SAFETY_PHRASES'].str.contains(\"H241\"))), ['rubrique']] += \"4410, \"\n",
    "\n",
    "#Substances et mélanges auto-reactifs type C, D, E, F hors peroxydes                       \n",
    "df.loc[(df['Nommement designee ?'] == \"Non\") \n",
    "       &(~df['PRODUCT_NAME'].str.contains(\"perox\", case=False, na=False))\n",
    "       &(df['SAFETY_PHRASES'].str.contains(\"H242\")), ['rubrique']] += \"4411, \"\n",
    "\n",
    "\n",
    "#Peroxydes organiques type A & B                                                           \n",
    "df.loc[(df['Nommement designee ?'] == \"Non\") \n",
    "       &(df['PRODUCT_NAME'].str.contains(\"perox\", case=False, na=False))\n",
    "       &((df['SAFETY_PHRASES'].str.contains(\"H240\")) \n",
    "        |(df['SAFETY_PHRASES'].str.contains(\"H241\"))), ['rubrique']] += \"4420, \"\n",
    "\n",
    "#Peroxydes organiques type C, D, E, F (pas de differentiation typ C,D et type E,F) rub. 4221 et 4222 combinées      \n",
    "df.loc[(df['Nommement designee ?'] == \"Non\") \n",
    "       &(df['PRODUCT_NAME'].str.contains(\"perox\", case=False, na=False))\n",
    "       &(df['SAFETY_PHRASES'].str.contains(\"H242\")), ['rubrique']] += \"4421, \"\n",
    "\n",
    "#Liquides pyrophoriques catégorie 1\n",
    "df.loc[(df['Nommement designee ?'] == \"Non\") \n",
    "       &(df['PHYSICAL_STATE'] == \"liquid\")\n",
    "       &(df['SAFETY_PHRASES'].str.contains(\"H250\")), ['rubrique']] += \"4430, \"\n",
    "\n",
    "#Matières solides pyrophoriques catégorie 1\n",
    "df.loc[(df['Nommement designee ?'] == \"Non\") \n",
    "       &(df['PHYSICAL_STATE'] == \"solid\")\n",
    "       &(df['SAFETY_PHRASES'].str.contains(\"H250\")), ['rubrique']] += \"4431, \"\n",
    "\n",
    "#Liquides comburants catégorie 2, 3\n",
    "df.loc[(df['Nommement designee ?'] == \"Non\") \n",
    "       &(df['PHYSICAL_STATE'] == \"liquid\")\n",
    "       &((df['SAFETY_PHRASES'].str.contains(\"H271\"))\n",
    "        |(df['SAFETY_PHRASES'].str.contains(\"H272\"))), ['rubrique']] += \"4440, \"\n",
    "\n",
    "#Solides comburants catégorie 2, 3\n",
    "df.loc[(df['Nommement designee ?'] == \"Non\") \n",
    "       &(df['PHYSICAL_STATE'] == \"solid\")\n",
    "       &((df['SAFETY_PHRASES'].str.contains(\"H271\"))\n",
    "        |(df['SAFETY_PHRASES'].str.contains(\"H272\"))), ['rubrique']] += \"4441, \"\n",
    "\n",
    "#Gaz comburants catégorie 1\n",
    "df.loc[(df['Nommement designee ?'] == \"Non\") \n",
    "       &(df['SAFETY_PHRASES'].str.contains(\"H270\")), ['rubrique']] += \"4442, \"\n",
    "\n",
    "#Recherche explosifs => considérés non emballé conformément aux dispositions de transport => detection en rubrique 4240.1 seulement\n",
    "df.loc[(df['Nommement designee ?'] == \"Non\") \n",
    "       &((df['SAFETY_PHRASES'].str.contains(\"H200\"))\n",
    "         |(df['SAFETY_PHRASES'].str.contains(\"H201\"))\n",
    "         |(df['SAFETY_PHRASES'].str.contains(\"H202\")) \n",
    "         |(df['SAFETY_PHRASES'].str.contains(\"H203\")) \n",
    "         |(df['SAFETY_PHRASES'].str.contains(\"H204\"))  \n",
    "         |(df['SAFETY_PHRASES'].str.contains(\"H205\"))), ['rubrique']] += \"4240.1, \"\n",
    "\n",
    "#Substances et mélanges qui, au contact de l'eau, dégagent des gaz inflammables, cat1\n",
    "df.loc[(df['Nommement designee ?'] == \"Non\") \n",
    "       &(df['SAFETY_PHRASES'].str.contains(\"H260\")), ['rubrique']] += \"4620, \"\n",
    "\n",
    "#Réagit violemment au contact de l'eau\n",
    "df.loc[(df['Nommement designee ?'] == \"Non\") \n",
    "       &(df['SAFETY_PHRASES'].str.contains(\"EUH014\")), ['rubrique']] += \"4610, \"\n",
    "\n",
    "#Au contact de l'eau, dégage des gaz toxiques\n",
    "df.loc[(df['Nommement designee ?'] == \"Non\") \n",
    "       &(df['SAFETY_PHRASES'].str.contains(\"EUH029\")), ['rubrique']] += \"4630, \"\n",
    "\n",
    "#Attribution de la règle de cumul b\n",
    "df.loc[(df['Nommement designee ?'] == \"Non\") \n",
    "       &(df['SAFETY_PHRASES'].str.contains(\"|\".join(H_physiques))), ['regle cumul']] += \"b, \""
   ]
  },
  {
   "cell_type": "code",
   "execution_count": 11,
   "metadata": {},
   "outputs": [],
   "source": [
    "#Classification dangers environnement\n",
    "    \n",
    "#Dangers pour le milieu aquatique - Danger aigu et chronique, cat 1\n",
    "df.loc[(df['Nommement designee ?'] == \"Non\") \n",
    "       &((df['SAFETY_PHRASES'].str.contains(\"H400\")) \n",
    "        |(df['SAFETY_PHRASES'].str.contains(\"H410\"))) , ['rubrique']] += \"4510, \"\n",
    "\n",
    "#Dangers pour le milieu aquatique - Danger chronique, cat 2\n",
    "df.loc[(df['Nommement designee ?'] == \"Non\") \n",
    "       &(df['SAFETY_PHRASES'].str.contains(\"H411\")), ['rubrique']] += \"4511, \"\n",
    "\n",
    "#Attribution de la règle de cumul c\n",
    "df.loc[(df['Nommement designee ?'] == \"Non\") \n",
    "       &(df['SAFETY_PHRASES'].str.contains(\"|\".join(H_environnements))), ['regle cumul']] += \"c, \""
   ]
  },
  {
   "cell_type": "code",
   "execution_count": 12,
   "metadata": {},
   "outputs": [],
   "source": [
    "# /////////////////////////////////////////////////////////////////////////////////////////////////////////////////////////////////////////////////////////////////////////////////////\n",
    "# Grouper les produits par \"IDs\" et spécification de l'aggrégation de chaque colomne\n",
    "df_id = df.groupby('STR_ID').agg({'PRODUCT_NAME' : lambda x: ', '.join(x.unique()), \n",
    "                                  'CAS_NO' : lambda x: ', '.join(x.unique()),\n",
    "                                  'STOCK_AMOUNT' : lambda x: x.sum().round(7), \n",
    "                                  'STOCK_AMOUNT_UNIT' : lambda x: ', '.join(x.unique()), \n",
    "                                  'CAS_NO' : lambda x: ', '.join(x.unique()),\n",
    "                                  'SAFETY_PHRASES' : lambda x: ', '.join(x.unique()),\n",
    "                                  'Nommement designee ?': 'unique',\n",
    "                                  'rubrique' : lambda x: ', '.join(x.unique()),\n",
    "                                  'regle cumul':  lambda x: ', '.join(x.unique())\n",
    "                                  }).sort_values('STOCK_AMOUNT', ascending=False).reset_index()\n"
   ]
  },
  {
   "cell_type": "code",
   "execution_count": 13,
   "metadata": {},
   "outputs": [],
   "source": [
    "#Nettoyage de la colonne CAS_NO\n",
    "df_id['CAS_NO'] = df_id['CAS_NO'].str.strip()\n",
    "df_id['CAS_NO'] = df_id['CAS_NO'].str.strip(',')\n",
    "df_id['CAS_NO'] = df_id['CAS_NO'].str.strip()\n",
    "\n",
    "#Nettoyage de la colonne SAFETY_PHRASES"
   ]
  },
  {
   "cell_type": "code",
   "execution_count": 14,
   "metadata": {},
   "outputs": [],
   "source": [
    "#Nettoyage de la colonne safety phrase\n",
    "def parse(chain):\n",
    "    processed = ''\n",
    "    chain_list = list(set(chain.split(', ')))\n",
    "    chain_list.sort()\n",
    "    for i in chain_list:\n",
    "        if i !='':\n",
    "            processed += (i + \", \")\n",
    "    return processed  \n",
    "\n",
    "df_id['SAFETY_PHRASES'] = df_id['SAFETY_PHRASES'].apply(lambda x : parse(x))\n"
   ]
  },
  {
   "cell_type": "code",
   "execution_count": 15,
   "metadata": {},
   "outputs": [],
   "source": [
    "#Nettoyage de la colonne Nommément designé \n",
    "df_id['Nommement designee ?'] = df_id['Nommement designee ?'].str.join(', ')\n",
    "df_id.loc[df_id['Nommement designee ?'].str.contains(\"Oui\"), ['Nommement designee ?']] = \"Oui\"\n",
    "df_id.loc[df_id['Nommement designee ?'].str.contains(\"Non\"), ['Nommement designee ?']] = \"Non\""
   ]
  },
  {
   "cell_type": "code",
   "execution_count": 16,
   "metadata": {},
   "outputs": [],
   "source": [
    "#Nettoyage de la colomne \"rubrique\" et supression des doublons \n",
    "df_id['rubrique'] = df_id['rubrique'].apply(lambda x : parse(x))\n"
   ]
  },
  {
   "cell_type": "code",
   "execution_count": 17,
   "metadata": {},
   "outputs": [],
   "source": [
    "#Nettoyage colonne regle cumul\n",
    "df_id['regle cumul2'] = df_id['regle cumul'].copy()\n",
    "df_id['regle cumul'] = ''\n",
    "df_id.loc[(df_id['regle cumul2'].str.contains(\"a\")), ['regle cumul']] += 'a, '\n",
    "df_id.loc[(df_id['regle cumul2'].str.contains(\"b\")), ['regle cumul']] += 'b, '\n",
    "df_id.loc[(df_id['regle cumul2'].str.contains(\"c\")), ['regle cumul']] += 'c, '\n",
    "df_id.drop('regle cumul2', axis=1, inplace=True)"
   ]
  },
  {
   "cell_type": "code",
   "execution_count": 18,
   "metadata": {},
   "outputs": [],
   "source": [
    "#chargement de la table pour seuil seveso et ICPE et préparation colonne \"rubrique\"\n",
    "def parse_seuils(x):\n",
    "    x = str(x)\n",
    "    if x[-1] == '0':\n",
    "        x = x[:-2]\n",
    "    return x\n",
    "\n",
    "#chargement de la table pour seuil seveso et ICPE\n",
    "df_seuils = pd.read_excel(\"Data/Seuils_seveso_ICPE.xlsx\")\n",
    "df_seuils['rubrique'] = df_seuils['rubrique'].astype(str)\n",
    "df_seuils['rubrique'] = df_seuils['rubrique'].apply(lambda x: parse_seuils(x))\n",
    "\n"
   ]
  },
  {
   "cell_type": "code",
   "execution_count": 19,
   "metadata": {},
   "outputs": [],
   "source": [
    "#Séparer toutes les lignes par rubriques\n",
    "df_id['rubrique'] = df_id['rubrique'].str.split(', ')\n",
    "df_id = df_id.explode('rubrique')"
   ]
  },
  {
   "cell_type": "code",
   "execution_count": 20,
   "metadata": {},
   "outputs": [],
   "source": [
    "#Renseignement des seuils bas seveso, ICPE et type de danger a, b ou c ou groupes de molécules\n",
    "df_id = df_id.merge(df_seuils, how=\"left\", on=\"rubrique\")"
   ]
  },
  {
   "cell_type": "code",
   "execution_count": 21,
   "metadata": {},
   "outputs": [],
   "source": [
    "#Creation des colonnes seuil a, b et c et remplissage du seuil correspondant à chacune des catégories pour les non Nommement designee\n",
    "df_id.loc[(df_id['cumul'] == \"a\")&(df_id['Nommement designee ?'] == 'Non'), ['seuil cumul a']] = df_id['seuil seveso bas']\n",
    "df_id.loc[(df_id['cumul'] == \"b\")&(df_id['Nommement designee ?'] == 'Non'), ['seuil cumul b']] = df_id['seuil seveso bas']\n",
    "df_id.loc[(df_id['cumul'] == \"c\")&(df_id['Nommement designee ?'] == 'Non'), ['seuil cumul c']] = df_id['seuil seveso bas']"
   ]
  },
  {
   "cell_type": "code",
   "execution_count": 22,
   "metadata": {},
   "outputs": [],
   "source": [
    "#Regrouper les données en prenant les seuils minimum et en considérant les règles de cumuls applicables à chacune des catégories\n",
    "df_id = df_id.groupby('STR_ID').agg({'PRODUCT_NAME' : 'first', \n",
    "                                  'CAS_NO' : 'first',\n",
    "                                  'STOCK_AMOUNT' : 'first', \n",
    "                                  'STOCK_AMOUNT_UNIT' : 'first', \n",
    "                                  'CAS_NO' : 'first',\n",
    "                                  'SAFETY_PHRASES' : 'first',\n",
    "                                  'Nommement designee ?': 'first',\n",
    "                                  'rubrique' : lambda x: ', '.join(x),\n",
    "                                  'regle cumul':  'first',\n",
    "                                  'seuil seveso bas': 'min', \n",
    "                                  'seuil ICPE bas': 'min',\n",
    "                                  'seuil cumul a': 'min',\n",
    "                                  'seuil cumul b':'min',\n",
    "                                  'seuil cumul c': 'min'\n",
    "                                  }).sort_values('STOCK_AMOUNT', ascending=False).reset_index()"
   ]
  },
  {
   "cell_type": "code",
   "execution_count": 23,
   "metadata": {},
   "outputs": [],
   "source": [
    "#Ajout des seuils minimum de cumuls aux produits nommément désignés\n",
    "df_id.loc[(df_id['Nommement designee ?'] == 'Oui')\n",
    "          &(df_id['regle cumul'].str.contains('a')), ['seuil cumul a']] = df_id['seuil seveso bas']\n",
    "\n",
    "df_id.loc[(df_id['Nommement designee ?'] == 'Oui')\n",
    "          &(df_id['regle cumul'].str.contains('b')), ['seuil cumul b']] = df_id['seuil seveso bas']\n",
    "\n",
    "df_id.loc[(df_id['Nommement designee ?'] == 'Oui')\n",
    "          &(df_id['regle cumul'].str.contains('c')), ['seuil cumul c']] = df_id['seuil seveso bas']"
   ]
  },
  {
   "cell_type": "code",
   "execution_count": 24,
   "metadata": {},
   "outputs": [],
   "source": [
    "#Calcul des fractions pour chaque produit\n",
    "df_id['fraction a'] = (df_id['STOCK_AMOUNT'] / df_id['seuil cumul a'])\n",
    "df_id['fraction b'] = (df_id['STOCK_AMOUNT'] / df_id['seuil cumul b'])\n",
    "df_id['fraction c'] = (df_id['STOCK_AMOUNT'] / df_id['seuil cumul c'])"
   ]
  },
  {
   "cell_type": "code",
   "execution_count": 25,
   "metadata": {},
   "outputs": [],
   "source": [
    "#Vérification Dépassement seuil direct Seveso Bas et ICPE Bas\n",
    "df_id['Dépassement direct seuil seveso'] = df_id['STOCK_AMOUNT'] > df_id['seuil seveso bas']\n",
    "df_id['Dépassement direct seuil ICPE'] = df_id['STOCK_AMOUNT'] > df_id['seuil ICPE bas']\n"
   ]
  },
  {
   "cell_type": "code",
   "execution_count": 26,
   "metadata": {},
   "outputs": [
    {
     "name": "stdout",
     "output_type": "stream",
     "text": [
      "Somme a = 0.023516666\n",
      "Somme b = 0.0113840629\n",
      "Somme c = 0.0110359305\n"
     ]
    }
   ],
   "source": [
    "#Calcul des sommes :\n",
    "df_id = df_id.fillna(0)\n",
    "a = sum(df_id['fraction a'])\n",
    "b = sum(df_id['fraction b'])\n",
    "c = sum(df_id['fraction c'])\n",
    "print(\"Somme a = \" + str(a))\n",
    "print(\"Somme b = \" + str(b))\n",
    "print(\"Somme c = \" + str(c))\n",
    "\n"
   ]
  },
  {
   "cell_type": "code",
   "execution_count": 27,
   "metadata": {},
   "outputs": [],
   "source": [
    "#Création d'un Datafram Resultat\n",
    "df_resultat = df_id.loc[(df_id['Dépassement direct seuil seveso'] == True)\n",
    "          |df_id['Dépassement direct seuil ICPE'] == True] "
   ]
  },
  {
   "cell_type": "code",
   "execution_count": 28,
   "metadata": {},
   "outputs": [],
   "source": [
    "#Write results on excel document\n",
    "with pd.ExcelWriter(\"Seveso_ICPE_Lyon.xlsx\") as writer:\n",
    "    df.to_excel(writer, sheet_name=\"Inventaire Detaillé\")\n",
    "    df_id.to_excel(writer, sheet_name=\"Inventaire groupé par produit\")\n",
    "    df_resultat.to_excel(writer, sheet_name=\"Depassement Seveso ou ICPE\")"
   ]
  },
  {
   "cell_type": "code",
   "execution_count": 29,
   "metadata": {},
   "outputs": [],
   "source": [
    "# #Additional visualisation or calculation\n",
    "# filter_solid = df['PHYSICAL_STATE'] == 'solid'\n",
    "# filter_liquid = df['PHYSICAL_STATE'] == 'liquid'\n",
    "# filter_gaz = df['PHYSICAL_STATE'] == 'gaseous'\n",
    "\n",
    "# # df.loc[df['SAFETY_PHRASES'].str.contains(\"H230\")]\n",
    "# df.loc[(df['rubrique'].str.contains(\"4150\"))&filter_solid, ['STOCK_AMOUNT']].sum()"
   ]
  },
  {
   "cell_type": "code",
   "execution_count": 30,
   "metadata": {},
   "outputs": [
    {
     "data": {
      "text/plain": [
       "array(['', '4130', '4140', '4331', '4150', '4735', '4610', '4630', '4716',\n",
       "       '4733', '4510', '4330', '4620', '4440', '4441', '4110', '4421',\n",
       "       '4511', '4430', '4431', '4743', '4709', '4738', '4722', '4739',\n",
       "       '4748', '4411', '4714', '4705', '4706', '4742', '4410', '4737',\n",
       "       '4746'], dtype=object)"
      ]
     },
     "execution_count": 30,
     "metadata": {},
     "output_type": "execute_result"
    }
   ],
   "source": [
    "# Show all \"rubrique\" detected in Lyon\n",
    "df_id['rubrique'].str.split(', ').explode().unique()"
   ]
  },
  {
   "cell_type": "code",
   "execution_count": null,
   "metadata": {},
   "outputs": [],
   "source": []
  }
 ],
 "metadata": {
  "kernelspec": {
   "display_name": "Python_conda",
   "language": "python",
   "name": "python3"
  },
  "language_info": {
   "codemirror_mode": {
    "name": "ipython",
    "version": 3
   },
   "file_extension": ".py",
   "mimetype": "text/x-python",
   "name": "python",
   "nbconvert_exporter": "python",
   "pygments_lexer": "ipython3",
   "version": "3.12.3"
  }
 },
 "nbformat": 4,
 "nbformat_minor": 2
}
